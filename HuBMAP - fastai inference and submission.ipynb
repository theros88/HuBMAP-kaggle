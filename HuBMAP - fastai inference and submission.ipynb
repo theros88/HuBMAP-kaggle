{
 "cells": [
  {
   "cell_type": "markdown",
   "id": "311eb624",
   "metadata": {
    "papermill": {
     "duration": 0.015615,
     "end_time": "2022-08-08T16:34:35.993383",
     "exception": false,
     "start_time": "2022-08-08T16:34:35.977768",
     "status": "completed"
    },
    "tags": []
   },
   "source": [
    "# HuBMAP + HPA fastai inference\n",
    "The U-Net trained model with the best accuracy is used from the previous step for inference on the test set of the competition. The predicted mask image is upsampled to the dimension of the original image and is converted to a RLE format before submission. \n",
    "\n",
    "This notebook achieved the following scores:\n",
    "* Public Score: **0.44730**\n",
    "* Private Score: **0.34321**\n",
    "\n",
    "_Notes:_ \n",
    "* _The private score is not shown to the participants until after the competition is concluded and it comprises 50% of the test set_\n",
    "* _This notebook is using fastai v2._"
   ]
  },
  {
   "cell_type": "code",
   "execution_count": 1,
   "id": "95d75592",
   "metadata": {
    "_cell_guid": "b1076dfc-b9ad-4769-8c92-a6c4dae69d19",
    "_uuid": "8f2839f25d086af736a60e9eeb907d3b93b6e0e5",
    "execution": {
     "iopub.execute_input": "2022-08-08T16:34:36.021990Z",
     "iopub.status.busy": "2022-08-08T16:34:36.021232Z",
     "iopub.status.idle": "2022-08-08T16:34:39.448176Z",
     "shell.execute_reply": "2022-08-08T16:34:39.447187Z"
    },
    "papermill": {
     "duration": 3.445105,
     "end_time": "2022-08-08T16:34:39.450748",
     "exception": false,
     "start_time": "2022-08-08T16:34:36.005643",
     "status": "completed"
    },
    "tags": []
   },
   "outputs": [],
   "source": [
    "from fastai.vision.all import *\n",
    "from fastai.callback.all import *\n",
    "from fastai.basics import *\n",
    "import numpy as np\n",
    "import pandas as pd\n",
    "import PIL\n",
    "import cv2"
   ]
  },
  {
   "cell_type": "code",
   "execution_count": 2,
   "id": "19d98089",
   "metadata": {
    "execution": {
     "iopub.execute_input": "2022-08-08T16:34:39.470346Z",
     "iopub.status.busy": "2022-08-08T16:34:39.468423Z",
     "iopub.status.idle": "2022-08-08T16:34:39.473867Z",
     "shell.execute_reply": "2022-08-08T16:34:39.472948Z"
    },
    "papermill": {
     "duration": 0.016878,
     "end_time": "2022-08-08T16:34:39.475911",
     "exception": false,
     "start_time": "2022-08-08T16:34:39.459033",
     "status": "completed"
    },
    "tags": []
   },
   "outputs": [],
   "source": [
    "SEED = 88"
   ]
  },
  {
   "cell_type": "code",
   "execution_count": 3,
   "id": "7bde7923",
   "metadata": {
    "execution": {
     "iopub.execute_input": "2022-08-08T16:34:39.492575Z",
     "iopub.status.busy": "2022-08-08T16:34:39.492269Z",
     "iopub.status.idle": "2022-08-08T16:34:39.498727Z",
     "shell.execute_reply": "2022-08-08T16:34:39.497852Z"
    },
    "papermill": {
     "duration": 0.017081,
     "end_time": "2022-08-08T16:34:39.500703",
     "exception": false,
     "start_time": "2022-08-08T16:34:39.483622",
     "status": "completed"
    },
    "tags": []
   },
   "outputs": [],
   "source": [
    "def seed_everything(seed):\n",
    "    random.seed(seed)\n",
    "    os.environ['PYTHONHASHSEED'] = str(seed)\n",
    "    np.random.seed(seed)\n",
    "    torch.manual_seed(seed)\n",
    "    torch.cuda.manual_seed(seed)\n",
    "    torch.backends.cudnn.deterministic = True\n",
    "    #the following line gives ~10% speedup\n",
    "    #but may lead to some stochasticity in the results \n",
    "#     torch.backends.cudnn.benchmark = True\n",
    "    \n",
    "seed_everything(SEED)"
   ]
  },
  {
   "cell_type": "code",
   "execution_count": 27,
   "id": "96d0ebaf",
   "metadata": {
    "execution": {
     "iopub.execute_input": "2022-08-08T16:35:21.049589Z",
     "iopub.status.busy": "2022-08-08T16:35:21.049017Z",
     "iopub.status.idle": "2022-08-08T16:35:23.917289Z",
     "shell.execute_reply": "2022-08-08T16:35:23.916302Z"
    },
    "papermill": {
     "duration": 3.13729,
     "end_time": "2022-08-08T16:35:23.919960",
     "exception": false,
     "start_time": "2022-08-08T16:35:20.782670",
     "status": "completed"
    },
    "tags": []
   },
   "outputs": [],
   "source": [
    "# Load the best model which was exported previously during training\n",
    "MODEL_NAME = \"/kaggle/input/simple-fastai-baseline-and-submission/export.pkl\"\n",
    "learn = load_learner(MODEL_NAME)\n",
    "learn.model_dir='/kaggle/working/'"
   ]
  },
  {
   "cell_type": "markdown",
   "id": "3e3eefeb",
   "metadata": {
    "papermill": {
     "duration": 0.262989,
     "end_time": "2022-08-08T16:35:25.411344",
     "exception": false,
     "start_time": "2022-08-08T16:35:25.148355",
     "status": "completed"
    },
    "tags": []
   },
   "source": [
    "## Inference with the test set"
   ]
  },
  {
   "cell_type": "code",
   "execution_count": 30,
   "id": "896a2233",
   "metadata": {
    "execution": {
     "iopub.execute_input": "2022-08-08T16:35:26.527257Z",
     "iopub.status.busy": "2022-08-08T16:35:26.526524Z",
     "iopub.status.idle": "2022-08-08T16:35:26.542180Z",
     "shell.execute_reply": "2022-08-08T16:35:26.540976Z"
    },
    "papermill": {
     "duration": 0.289532,
     "end_time": "2022-08-08T16:35:26.544913",
     "exception": false,
     "start_time": "2022-08-08T16:35:26.255381",
     "status": "completed"
    },
    "tags": []
   },
   "outputs": [],
   "source": [
    "def rle_encode_less_memory(img):\n",
    "''' Convert a mask to rle encoded format\n",
    "    Input: a mask of unsigned integers of 0s or 1s as a numpy array\n",
    "    Output: A rle encoded string \n",
    "'''    \n",
    "    #the image should be transposed\n",
    "    pixels = img.T.flatten()\n",
    "    \n",
    "    # This simplified method requires first and last pixel to be zero\n",
    "    pixels[0] = 0\n",
    "    pixels[-1] = 0\n",
    "    runs = np.where(pixels[1:] != pixels[:-1])[0] + 2\n",
    "    runs[1::2] -= runs[::2]\n",
    "    \n",
    "    return ' '.join(str(x) for x in runs)"
   ]
  },
  {
   "cell_type": "code",
   "execution_count": 29,
   "id": "1c621c09",
   "metadata": {
    "execution": {
     "iopub.execute_input": "2022-08-08T16:35:25.965565Z",
     "iopub.status.busy": "2022-08-08T16:35:25.964985Z",
     "iopub.status.idle": "2022-08-08T16:35:25.994767Z",
     "shell.execute_reply": "2022-08-08T16:35:25.993346Z"
    },
    "papermill": {
     "duration": 0.295961,
     "end_time": "2022-08-08T16:35:25.997032",
     "exception": false,
     "start_time": "2022-08-08T16:35:25.701071",
     "status": "completed"
    },
    "tags": []
   },
   "outputs": [
    {
     "data": {
      "text/plain": [
       "(#1) [Path('../input/hubmap-organ-segmentation/test_images/10078.tiff')]"
      ]
     },
     "execution_count": 29,
     "metadata": {},
     "output_type": "execute_result"
    }
   ],
   "source": [
    "# Locations of the test files\n",
    "DATASET_FOLDER = '../input/hubmap-organ-segmentation'\n",
    "df_test = pd.read_csv(os.path.join(DATASET_FOLDER, \"test.csv\"))\n",
    "test_img = Path(DATASET_FOLDER)/\"test_images\"\n",
    "test_files = L([test_img/f'{tid}.tiff' for tid in df_test[\"id\"]])\n",
    "test_files"
   ]
  },
  {
   "cell_type": "code",
   "execution_count": 31,
   "id": "a7893427",
   "metadata": {
    "execution": {
     "iopub.execute_input": "2022-08-08T16:35:27.067243Z",
     "iopub.status.busy": "2022-08-08T16:35:27.066668Z",
     "iopub.status.idle": "2022-08-08T16:35:32.101660Z",
     "shell.execute_reply": "2022-08-08T16:35:32.100538Z"
    },
    "papermill": {
     "duration": 5.304111,
     "end_time": "2022-08-08T16:35:32.104105",
     "exception": false,
     "start_time": "2022-08-08T16:35:26.799994",
     "status": "completed"
    },
    "tags": []
   },
   "outputs": [
    {
     "data": {
      "text/html": [
       "\n",
       "<style>\n",
       "    /* Turns off some styling */\n",
       "    progress {\n",
       "        /* gets rid of default border in Firefox and Opera. */\n",
       "        border: none;\n",
       "        /* Needs to be in here for Safari polyfill so background images work as expected. */\n",
       "        background-size: auto;\n",
       "    }\n",
       "    .progress-bar-interrupted, .progress-bar-interrupted::-webkit-progress-bar {\n",
       "        background: #F44336;\n",
       "    }\n",
       "</style>\n"
      ],
      "text/plain": [
       "<IPython.core.display.HTML object>"
      ]
     },
     "metadata": {},
     "output_type": "display_data"
    },
    {
     "data": {
      "text/html": [],
      "text/plain": [
       "<IPython.core.display.HTML object>"
      ]
     },
     "metadata": {},
     "output_type": "display_data"
    }
   ],
   "source": [
    "# Copy structure of submission.csv\n",
    "submission = pd.read_csv(Path(DATASET_FOLDER)/'sample_submission.csv')\n",
    "submission[\"id\"] = df_test[\"id\"]\n",
    "# Load the test set\n",
    "test_dl = learn.dls.test_dl(test_files)\n",
    "# Inference on the test files\n",
    "_, _, decoded = learn.get_preds(dl=test_dl, with_decoded=True)\n",
    "#     learn.show_results(ds_idx=1, dl=test_dl, max_n=6,nrows=1, figsize=(10,10))\n",
    "rles = []\n",
    "for idx, size in enumerate(zip(df_test[\"img_height\"], df_test[\"img_width\"])):\n",
    "    # Upsample every mask to original image dimension (height, width)\n",
    "    upS = nn.Upsample(size=size, mode='nearest')\n",
    "    mask = decoded[idx].unsqueeze(0).unsqueeze(0)\n",
    "    # If mask is not empty\n",
    "    if mask.any():\n",
    "        mask = upS(mask.float())\n",
    "        mask = (mask > 1e-6).to(torch.uint8).squeeze(0).squeeze(0).numpy()\n",
    "    else:\n",
    "        # A random sized circular mask\n",
    "        fraction = np.random.rand()\n",
    "        mask = np.zeros(size)\n",
    "        mask = cv2.circle(mask, (int(np.round(size[1]/2)), int(np.round(size[0]/2))), \n",
    "                          int(np.round((size[1]/2)*fraction)), 1, -1)\n",
    "    # Encode mask to RLE string\n",
    "    rle = rle_encode_less_memory(mask)\n",
    "    rles.append(rle)\n",
    "        \n",
    "submission[\"rle\"] = rles"
   ]
  },
  {
   "cell_type": "markdown",
   "id": "511aa521",
   "metadata": {},
   "source": [
    "## Submission of the results"
   ]
  },
  {
   "cell_type": "code",
   "execution_count": 32,
   "id": "9c9e8014",
   "metadata": {
    "execution": {
     "iopub.execute_input": "2022-08-08T16:35:32.762064Z",
     "iopub.status.busy": "2022-08-08T16:35:32.760517Z",
     "iopub.status.idle": "2022-08-08T16:35:32.784293Z",
     "shell.execute_reply": "2022-08-08T16:35:32.783239Z"
    },
    "papermill": {
     "duration": 0.419399,
     "end_time": "2022-08-08T16:35:32.787191",
     "exception": false,
     "start_time": "2022-08-08T16:35:32.367792",
     "status": "completed"
    },
    "tags": []
   },
   "outputs": [
    {
     "data": {
      "text/html": [
       "<div>\n",
       "<style scoped>\n",
       "    .dataframe tbody tr th:only-of-type {\n",
       "        vertical-align: middle;\n",
       "    }\n",
       "\n",
       "    .dataframe tbody tr th {\n",
       "        vertical-align: top;\n",
       "    }\n",
       "\n",
       "    .dataframe thead th {\n",
       "        text-align: right;\n",
       "    }\n",
       "</style>\n",
       "<table border=\"1\" class=\"dataframe\">\n",
       "  <thead>\n",
       "    <tr style=\"text-align: right;\">\n",
       "      <th></th>\n",
       "      <th>id</th>\n",
       "      <th>rle</th>\n",
       "    </tr>\n",
       "  </thead>\n",
       "  <tbody>\n",
       "    <tr>\n",
       "      <th>0</th>\n",
       "      <td>10078</td>\n",
       "      <td>9670 4 11693 4 13716 4 15739 4 17758 12 17782 8 19781 12 19805 8 21804 12 21828 8 23827 12 23851 8 24716 12 25842 4 25850 40 26739 12 27865 4 27873 40 28762 12 29888 4 29896 40 30785 12 31911 4 31919 40 32788 4 32804 32 33930 52 34811 4 34827 32 35953 52 36834 4 36850 32 37976 52 38857 4 38873 32 39999 52 40872 8 40896 51 42022 52 42895 8 42919 51 44045 52 44918 8 44942 51 46068 52 46941 8 46965 51 48091 52 48957 11 48988 48 50110 52 50980 11 51011 48 52133 52 53003 11 53034 48 54156 52 55026 11 55057 48 56179 52 57049 19 57072 48 58186 4 58202 52 59072 19 59095 48 60209 4 60225 52 61095 1...</td>\n",
       "    </tr>\n",
       "  </tbody>\n",
       "</table>\n",
       "</div>"
      ],
      "text/plain": [
       "      id  \\\n",
       "0  10078   \n",
       "\n",
       "                                                                                                                                                                                                                                                                                                                                                                                                                                                                                                                                                                                                                       rle  \n",
       "0  9670 4 11693 4 13716 4 15739 4 17758 12 17782 8 19781 12 19805 8 21804 12 21828 8 23827 12 23851 8 24716 12 25842 4 25850 40 26739 12 27865 4 27873 40 28762 12 29888 4 29896 40 30785 12 31911 4 31919 40 32788 4 32804 32 33930 52 34811 4 34827 32 35953 52 36834 4 36850 32 37976 52 38857 4 38873 32 39999 52 40872 8 40896 51 42022 52 42895 8 42919 51 44045 52 44918 8 44942 51 46068 52 46941 8 46965 51 48091 52 48957 11 48988 48 50110 52 50980 11 51011 48 52133 52 53003 11 53034 48 54156 52 55026 11 55057 48 56179 52 57049 19 57072 48 58186 4 58202 52 59072 19 59095 48 60209 4 60225 52 61095 1...  "
      ]
     },
     "metadata": {},
     "output_type": "display_data"
    }
   ],
   "source": [
    "display(submission.head())"
   ]
  },
  {
   "cell_type": "code",
   "execution_count": 34,
   "id": "3cb40845",
   "metadata": {
    "execution": {
     "iopub.execute_input": "2022-08-08T16:35:33.939785Z",
     "iopub.status.busy": "2022-08-08T16:35:33.939235Z",
     "iopub.status.idle": "2022-08-08T16:35:33.960705Z",
     "shell.execute_reply": "2022-08-08T16:35:33.959795Z"
    },
    "papermill": {
     "duration": 0.290659,
     "end_time": "2022-08-08T16:35:33.962930",
     "exception": false,
     "start_time": "2022-08-08T16:35:33.672271",
     "status": "completed"
    },
    "tags": []
   },
   "outputs": [],
   "source": [
    "submission.to_csv(\"submission.csv\", index=False)"
   ]
  }
 ],
 "metadata": {
  "kernelspec": {
   "display_name": "Python 3 (ipykernel)",
   "language": "python",
   "name": "python3"
  },
  "language_info": {
   "codemirror_mode": {
    "name": "ipython",
    "version": 3
   },
   "file_extension": ".py",
   "mimetype": "text/x-python",
   "name": "python",
   "nbconvert_exporter": "python",
   "pygments_lexer": "ipython3",
   "version": "3.7.11"
  },
  "papermill": {
   "default_parameters": {},
   "duration": 71.192568,
   "end_time": "2022-08-08T16:35:39.096953",
   "environment_variables": {},
   "exception": null,
   "input_path": "__notebook__.ipynb",
   "output_path": "__notebook__.ipynb",
   "parameters": {},
   "start_time": "2022-08-08T16:34:27.904385",
   "version": "2.3.4"
  }
 },
 "nbformat": 4,
 "nbformat_minor": 5
}
