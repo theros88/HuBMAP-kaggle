{
 "cells": [
  {
   "cell_type": "markdown",
   "id": "201c48c9",
   "metadata": {},
   "source": [
    "# HuBMAP + HPA kaggle baseline submission\n",
    "\n",
    "The goal of this notebook is to establish a baseline for the accuracy of \n",
    "the models that will be used. It creates random segementation masks with a uniform distribution of 0s and 1s and submits them to the competition for evaluation.\n",
    "The best score that is accomplished by this method is:<br>\n",
    "* Public Score: **0.29014**\n",
    "* Private Score: **0.32931**\n",
    "\n",
    "_Note: The private score is not shown to the participants until after the competition is concluded and it comprises 50% of the test set_"
   ]
  },
  {
   "cell_type": "code",
   "execution_count": 1,
   "id": "cc42e565",
   "metadata": {
    "_cell_guid": "b1076dfc-b9ad-4769-8c92-a6c4dae69d19",
    "_uuid": "8f2839f25d086af736a60e9eeb907d3b93b6e0e5",
    "execution": {
     "iopub.execute_input": "2022-07-23T13:42:54.053854Z",
     "iopub.status.busy": "2022-07-23T13:42:54.053241Z",
     "iopub.status.idle": "2022-07-23T13:42:57.221079Z",
     "shell.execute_reply": "2022-07-23T13:42:57.219887Z"
    },
    "papermill": {
     "duration": 3.177121,
     "end_time": "2022-07-23T13:42:57.224134",
     "exception": false,
     "start_time": "2022-07-23T13:42:54.047013",
     "status": "completed"
    },
    "tags": []
   },
   "outputs": [],
   "source": [
    "from fastai.vision.all import *\n",
    "import numpy as np\n",
    "import pandas as pd\n",
    "\n",
    "import os        "
   ]
  },
  {
   "cell_type": "code",
   "execution_count": 2,
   "id": "5c30f8f3",
   "metadata": {
    "execution": {
     "iopub.execute_input": "2022-07-23T13:42:57.234169Z",
     "iopub.status.busy": "2022-07-23T13:42:57.233256Z",
     "iopub.status.idle": "2022-07-23T13:42:57.237866Z",
     "shell.execute_reply": "2022-07-23T13:42:57.236887Z"
    },
    "papermill": {
     "duration": 0.012463,
     "end_time": "2022-07-23T13:42:57.240363",
     "exception": false,
     "start_time": "2022-07-23T13:42:57.227900",
     "status": "completed"
    },
    "tags": []
   },
   "outputs": [],
   "source": [
    "DATASET_FOLDER = '../input/hubmap-organ-segmentation'"
   ]
  },
  {
   "cell_type": "code",
   "execution_count": 3,
   "id": "a30eed06",
   "metadata": {
    "execution": {
     "iopub.execute_input": "2022-07-23T13:42:57.248863Z",
     "iopub.status.busy": "2022-07-23T13:42:57.248480Z",
     "iopub.status.idle": "2022-07-23T13:42:57.702867Z",
     "shell.execute_reply": "2022-07-23T13:42:57.701738Z"
    },
    "papermill": {
     "duration": 0.462539,
     "end_time": "2022-07-23T13:42:57.706410",
     "exception": false,
     "start_time": "2022-07-23T13:42:57.243871",
     "status": "completed"
    },
    "tags": []
   },
   "outputs": [
    {
     "data": {
      "text/html": [
       "<div>\n",
       "<style scoped>\n",
       "    .dataframe tbody tr th:only-of-type {\n",
       "        vertical-align: middle;\n",
       "    }\n",
       "\n",
       "    .dataframe tbody tr th {\n",
       "        vertical-align: top;\n",
       "    }\n",
       "\n",
       "    .dataframe thead th {\n",
       "        text-align: right;\n",
       "    }\n",
       "</style>\n",
       "<table border=\"1\" class=\"dataframe\">\n",
       "  <thead>\n",
       "    <tr style=\"text-align: right;\">\n",
       "      <th></th>\n",
       "      <th>id</th>\n",
       "      <th>organ</th>\n",
       "      <th>data_source</th>\n",
       "      <th>img_height</th>\n",
       "      <th>img_width</th>\n",
       "      <th>pixel_size</th>\n",
       "      <th>tissue_thickness</th>\n",
       "      <th>rle</th>\n",
       "      <th>age</th>\n",
       "      <th>sex</th>\n",
       "    </tr>\n",
       "  </thead>\n",
       "  <tbody>\n",
       "    <tr>\n",
       "      <th>0</th>\n",
       "      <td>10044</td>\n",
       "      <td>prostate</td>\n",
       "      <td>HPA</td>\n",
       "      <td>3000</td>\n",
       "      <td>3000</td>\n",
       "      <td>0.4</td>\n",
       "      <td>4</td>\n",
       "      <td>1459676 77 1462675 82 1465674 87 1468673 92 1471671 97 1474669 101 1477667 105 1480665 109 1483664 115 1486662 119 1489661 121 1492659 125 1495658 127 1498656 131 1501655 133 1504653 137 1507652 139 1510651 140 1513650 142 1516649 143 1519648 145 1522647 146 1525646 148 1528645 149 1531644 151 1534643 152 1537642 153 1540641 155 1543640 156 1546639 157 1549638 158 1552637 160 1555636 161 1558635 162 1561634 163 1564633 165 1567631 167 1570628 171 1573625 175 1576622 179 1579620 182 1582619 184 1585618 186 1588617 188 1591616 190 1594615 191 1597615 191 1600614 192 1603613 193 1606612 194 1...</td>\n",
       "      <td>37.0</td>\n",
       "      <td>Male</td>\n",
       "    </tr>\n",
       "    <tr>\n",
       "      <th>1</th>\n",
       "      <td>10274</td>\n",
       "      <td>prostate</td>\n",
       "      <td>HPA</td>\n",
       "      <td>3000</td>\n",
       "      <td>3000</td>\n",
       "      <td>0.4</td>\n",
       "      <td>4</td>\n",
       "      <td>715707 2 718705 8 721703 11 724701 18 727692 34 730692 35 733679 54 736677 58 739676 65 742675 67 745671 76 748669 79 751669 79 754667 87 757663 93 760662 94 763658 113 766657 114 769654 184 772651 202 775650 204 778649 216 781649 216 784646 228 787646 237 790644 241 793643 246 796641 249 799637 260 802636 267 805636 269 808635 274 811634 277 814632 281 817631 285 820631 285 823630 291 826629 294 829627 298 832626 301 835626 302 838624 310 841623 319 844622 321 847621 326 850621 327 853619 335 856618 341 859617 344 862616 349 865616 350 868615 357 871614 365 874614 367 877613 371 880613 37...</td>\n",
       "      <td>76.0</td>\n",
       "      <td>Male</td>\n",
       "    </tr>\n",
       "    <tr>\n",
       "      <th>2</th>\n",
       "      <td>10392</td>\n",
       "      <td>spleen</td>\n",
       "      <td>HPA</td>\n",
       "      <td>3000</td>\n",
       "      <td>3000</td>\n",
       "      <td>0.4</td>\n",
       "      <td>4</td>\n",
       "      <td>1228631 20 1231629 24 1234624 40 1237623 47 1240619 61 1243618 63 1246618 63 1249610 82 1252609 87 1255606 93 1258604 99 1261601 105 1264600 109 1267596 122 1270595 125 1273595 127 1276594 130 1279593 135 1282592 140 1285591 145 1288587 157 1291586 162 1294585 169 1297584 172 1300584 174 1303583 177 1306581 181 1309580 195 1309962 121 1312579 198 1312961 124 1315578 200 1315960 128 1318578 201 1318959 131 1321577 202 1321958 134 1324577 210 1324955 139 1327576 212 1327953 143 1330576 222 1330945 153 1333575 227 1333943 157 1336575 528 1339575 532 1342574 535 1345574 536 1348573 537 1351573...</td>\n",
       "      <td>82.0</td>\n",
       "      <td>Male</td>\n",
       "    </tr>\n",
       "    <tr>\n",
       "      <th>3</th>\n",
       "      <td>10488</td>\n",
       "      <td>lung</td>\n",
       "      <td>HPA</td>\n",
       "      <td>3000</td>\n",
       "      <td>3000</td>\n",
       "      <td>0.4</td>\n",
       "      <td>4</td>\n",
       "      <td>3446519 15 3449517 17 3452514 20 3455510 24 3458491 43 3461488 46 3464486 48 3467485 49 3470484 50 3473483 51 3476482 52 3479481 53 3482480 54 3485479 55 3488478 57 3491477 59 3494476 61 3497475 62 3500474 63 3503473 64 3506472 65 3509471 67 3512470 68 3515469 69 3518468 70 3521466 73 3524075 19 3524465 76 3527068 28 3527464 78 3530066 30 3530463 79 3533064 33 3533462 80 3536063 34 3536461 82 3539062 37 3539460 85 3542062 38 3542459 87 3545061 41 3545458 91 3548060 43 3548457 95 3551060 44 3551456 96 3554059 45 3554455 98 3557058 47 3557454 99 3560057 48 3560453 102 3563057 49 3563453 103 ...</td>\n",
       "      <td>78.0</td>\n",
       "      <td>Male</td>\n",
       "    </tr>\n",
       "    <tr>\n",
       "      <th>4</th>\n",
       "      <td>10610</td>\n",
       "      <td>spleen</td>\n",
       "      <td>HPA</td>\n",
       "      <td>3000</td>\n",
       "      <td>3000</td>\n",
       "      <td>0.4</td>\n",
       "      <td>4</td>\n",
       "      <td>478925 68 481909 87 484893 105 487863 154 490854 169 493845 182 496836 194 499827 205 502820 216 505814 227 508808 237 511803 246 514797 256 517792 264 520786 274 523780 283 526776 290 529773 296 532769 303 535766 309 538763 314 541760 320 544757 326 547753 332 550750 338 553747 343 556744 354 559740 360 562737 365 565734 369 568731 373 571728 377 574724 382 577721 386 580718 395 583715 399 586712 403 589708 408 592705 413 595702 417 598700 421 601698 424 604695 428 607693 432 610690 436 613688 440 616686 443 619683 448 622681 451 625679 455 628676 459 631673 464 634671 467 637667 472 6406...</td>\n",
       "      <td>21.0</td>\n",
       "      <td>Female</td>\n",
       "    </tr>\n",
       "  </tbody>\n",
       "</table>\n",
       "</div>"
      ],
      "text/plain": [
       "      id     organ data_source  img_height  img_width  pixel_size  \\\n",
       "0  10044  prostate         HPA        3000       3000         0.4   \n",
       "1  10274  prostate         HPA        3000       3000         0.4   \n",
       "2  10392    spleen         HPA        3000       3000         0.4   \n",
       "3  10488      lung         HPA        3000       3000         0.4   \n",
       "4  10610    spleen         HPA        3000       3000         0.4   \n",
       "\n",
       "   tissue_thickness  \\\n",
       "0                 4   \n",
       "1                 4   \n",
       "2                 4   \n",
       "3                 4   \n",
       "4                 4   \n",
       "\n",
       "                                                                                                                                                                                                                                                                                                                                                                                                                                                                                                                                                                                                                       rle  \\\n",
       "0  1459676 77 1462675 82 1465674 87 1468673 92 1471671 97 1474669 101 1477667 105 1480665 109 1483664 115 1486662 119 1489661 121 1492659 125 1495658 127 1498656 131 1501655 133 1504653 137 1507652 139 1510651 140 1513650 142 1516649 143 1519648 145 1522647 146 1525646 148 1528645 149 1531644 151 1534643 152 1537642 153 1540641 155 1543640 156 1546639 157 1549638 158 1552637 160 1555636 161 1558635 162 1561634 163 1564633 165 1567631 167 1570628 171 1573625 175 1576622 179 1579620 182 1582619 184 1585618 186 1588617 188 1591616 190 1594615 191 1597615 191 1600614 192 1603613 193 1606612 194 1...   \n",
       "1  715707 2 718705 8 721703 11 724701 18 727692 34 730692 35 733679 54 736677 58 739676 65 742675 67 745671 76 748669 79 751669 79 754667 87 757663 93 760662 94 763658 113 766657 114 769654 184 772651 202 775650 204 778649 216 781649 216 784646 228 787646 237 790644 241 793643 246 796641 249 799637 260 802636 267 805636 269 808635 274 811634 277 814632 281 817631 285 820631 285 823630 291 826629 294 829627 298 832626 301 835626 302 838624 310 841623 319 844622 321 847621 326 850621 327 853619 335 856618 341 859617 344 862616 349 865616 350 868615 357 871614 365 874614 367 877613 371 880613 37...   \n",
       "2  1228631 20 1231629 24 1234624 40 1237623 47 1240619 61 1243618 63 1246618 63 1249610 82 1252609 87 1255606 93 1258604 99 1261601 105 1264600 109 1267596 122 1270595 125 1273595 127 1276594 130 1279593 135 1282592 140 1285591 145 1288587 157 1291586 162 1294585 169 1297584 172 1300584 174 1303583 177 1306581 181 1309580 195 1309962 121 1312579 198 1312961 124 1315578 200 1315960 128 1318578 201 1318959 131 1321577 202 1321958 134 1324577 210 1324955 139 1327576 212 1327953 143 1330576 222 1330945 153 1333575 227 1333943 157 1336575 528 1339575 532 1342574 535 1345574 536 1348573 537 1351573...   \n",
       "3  3446519 15 3449517 17 3452514 20 3455510 24 3458491 43 3461488 46 3464486 48 3467485 49 3470484 50 3473483 51 3476482 52 3479481 53 3482480 54 3485479 55 3488478 57 3491477 59 3494476 61 3497475 62 3500474 63 3503473 64 3506472 65 3509471 67 3512470 68 3515469 69 3518468 70 3521466 73 3524075 19 3524465 76 3527068 28 3527464 78 3530066 30 3530463 79 3533064 33 3533462 80 3536063 34 3536461 82 3539062 37 3539460 85 3542062 38 3542459 87 3545061 41 3545458 91 3548060 43 3548457 95 3551060 44 3551456 96 3554059 45 3554455 98 3557058 47 3557454 99 3560057 48 3560453 102 3563057 49 3563453 103 ...   \n",
       "4  478925 68 481909 87 484893 105 487863 154 490854 169 493845 182 496836 194 499827 205 502820 216 505814 227 508808 237 511803 246 514797 256 517792 264 520786 274 523780 283 526776 290 529773 296 532769 303 535766 309 538763 314 541760 320 544757 326 547753 332 550750 338 553747 343 556744 354 559740 360 562737 365 565734 369 568731 373 571728 377 574724 382 577721 386 580718 395 583715 399 586712 403 589708 408 592705 413 595702 417 598700 421 601698 424 604695 428 607693 432 610690 436 613688 440 616686 443 619683 448 622681 451 625679 455 628676 459 631673 464 634671 467 637667 472 6406...   \n",
       "\n",
       "    age     sex  \n",
       "0  37.0    Male  \n",
       "1  76.0    Male  \n",
       "2  82.0    Male  \n",
       "3  78.0    Male  \n",
       "4  21.0  Female  "
      ]
     },
     "execution_count": 3,
     "metadata": {},
     "output_type": "execute_result"
    }
   ],
   "source": [
    "# Read the training set into a DataFrame \n",
    "df_train = pd.read_csv(os.path.join(DATASET_FOLDER, \"train.csv\"))\n",
    "df_train.head()"
   ]
  },
  {
   "cell_type": "code",
   "execution_count": 4,
   "id": "a9b6b0af",
   "metadata": {
    "execution": {
     "iopub.execute_input": "2022-07-23T13:42:57.716134Z",
     "iopub.status.busy": "2022-07-23T13:42:57.715353Z",
     "iopub.status.idle": "2022-07-23T13:42:57.721762Z",
     "shell.execute_reply": "2022-07-23T13:42:57.720957Z"
    },
    "papermill": {
     "duration": 0.013593,
     "end_time": "2022-07-23T13:42:57.723950",
     "exception": false,
     "start_time": "2022-07-23T13:42:57.710357",
     "status": "completed"
    },
    "tags": []
   },
   "outputs": [],
   "source": [
    "def rle_encode_less_memory(img):\n",
    "''' Convert a mask to rle encoded format\n",
    "    Input: a mask of unsigned integers of 0s or 1s as a numpy array\n",
    "    Output: A rle encoded string \n",
    "'''\n",
    "    #the image should be transposed\n",
    "    pixels = img.T.flatten()\n",
    "    \n",
    "    # This simplified method requires first and last pixel to be zero\n",
    "    pixels[0] = 0\n",
    "    pixels[-1] = 0\n",
    "    runs = np.where(pixels[1:] != pixels[:-1])[0] + 2\n",
    "    runs[1::2] -= runs[::2]\n",
    "    \n",
    "    return ' '.join(str(x) for x in runs)"
   ]
  },
  {
   "cell_type": "code",
   "execution_count": 5,
   "id": "98f08768",
   "metadata": {
    "execution": {
     "iopub.execute_input": "2022-07-23T13:42:57.733434Z",
     "iopub.status.busy": "2022-07-23T13:42:57.732704Z",
     "iopub.status.idle": "2022-07-23T13:42:57.752072Z",
     "shell.execute_reply": "2022-07-23T13:42:57.750964Z"
    },
    "papermill": {
     "duration": 0.026515,
     "end_time": "2022-07-23T13:42:57.754430",
     "exception": false,
     "start_time": "2022-07-23T13:42:57.727915",
     "status": "completed"
    },
    "tags": []
   },
   "outputs": [
    {
     "data": {
      "text/html": [
       "<div>\n",
       "<style scoped>\n",
       "    .dataframe tbody tr th:only-of-type {\n",
       "        vertical-align: middle;\n",
       "    }\n",
       "\n",
       "    .dataframe tbody tr th {\n",
       "        vertical-align: top;\n",
       "    }\n",
       "\n",
       "    .dataframe thead th {\n",
       "        text-align: right;\n",
       "    }\n",
       "</style>\n",
       "<table border=\"1\" class=\"dataframe\">\n",
       "  <thead>\n",
       "    <tr style=\"text-align: right;\">\n",
       "      <th></th>\n",
       "      <th>id</th>\n",
       "      <th>organ</th>\n",
       "      <th>data_source</th>\n",
       "      <th>img_height</th>\n",
       "      <th>img_width</th>\n",
       "      <th>pixel_size</th>\n",
       "      <th>tissue_thickness</th>\n",
       "    </tr>\n",
       "  </thead>\n",
       "  <tbody>\n",
       "    <tr>\n",
       "      <th>0</th>\n",
       "      <td>10078</td>\n",
       "      <td>spleen</td>\n",
       "      <td>Hubmap</td>\n",
       "      <td>2023</td>\n",
       "      <td>2023</td>\n",
       "      <td>0.4945</td>\n",
       "      <td>4</td>\n",
       "    </tr>\n",
       "  </tbody>\n",
       "</table>\n",
       "</div>"
      ],
      "text/plain": [
       "      id   organ data_source  img_height  img_width  pixel_size  \\\n",
       "0  10078  spleen      Hubmap        2023       2023      0.4945   \n",
       "\n",
       "   tissue_thickness  \n",
       "0                 4  "
      ]
     },
     "metadata": {},
     "output_type": "display_data"
    }
   ],
   "source": [
    "# Read the test set into a DataFrame \n",
    "df_test = pd.read_csv(os.path.join(DATASET_FOLDER, \"test.csv\"))\n",
    "display(df_test.head())"
   ]
  },
  {
   "cell_type": "code",
   "execution_count": 7,
   "id": "45b73856",
   "metadata": {
    "execution": {
     "iopub.execute_input": "2022-07-23T13:42:57.781942Z",
     "iopub.status.busy": "2022-07-23T13:42:57.781170Z",
     "iopub.status.idle": "2022-07-23T13:42:59.954973Z",
     "shell.execute_reply": "2022-07-23T13:42:59.953905Z"
    },
    "papermill": {
     "duration": 2.181967,
     "end_time": "2022-07-23T13:42:59.957533",
     "exception": false,
     "start_time": "2022-07-23T13:42:57.775566",
     "status": "completed"
    },
    "tags": []
   },
   "outputs": [
    {
     "data": {
      "text/html": [
       "<div>\n",
       "<style scoped>\n",
       "    .dataframe tbody tr th:only-of-type {\n",
       "        vertical-align: middle;\n",
       "    }\n",
       "\n",
       "    .dataframe tbody tr th {\n",
       "        vertical-align: top;\n",
       "    }\n",
       "\n",
       "    .dataframe thead th {\n",
       "        text-align: right;\n",
       "    }\n",
       "</style>\n",
       "<table border=\"1\" class=\"dataframe\">\n",
       "  <thead>\n",
       "    <tr style=\"text-align: right;\">\n",
       "      <th></th>\n",
       "      <th>id</th>\n",
       "      <th>rle</th>\n",
       "    </tr>\n",
       "  </thead>\n",
       "  <tbody>\n",
       "    <tr>\n",
       "      <th>0</th>\n",
       "      <td>10078</td>\n",
       "      <td>5 1 7 2 10 1 14 2 17 1 20 2 23 3 30 2 33 2 36 1 42 4 47 1 50 1 52 1 57 1 62 2 65 1 67 4 73 1 76 1 78 1 81 1 84 1 86 1 89 1 91 3 95 1 98 2 101 2 107 2 110 2 114 5 122 1 126 2 130 2 133 3 137 1 141 1 146 1 148 2 152 4 158 6 165 3 173 4 179 1 185 1 187 3 191 1 194 7 203 4 208 2 213 2 216 3 221 1 223 2 227 4 232 1 234 1 236 1 239 1 243 1 246 2 249 1 254 4 260 1 264 2 267 1 270 1 272 2 277 3 281 1 284 1 290 3 295 2 298 8 307 6 314 3 318 1 321 1 326 1 329 3 334 1 338 1 346 1 349 2 352 2 355 2 358 1 360 1 364 3 368 1 370 3 378 2 382 3 386 5 392 2 396 2 400 6 407 3 411 3 415 1 417 1 421 1 423 3 43...</td>\n",
       "    </tr>\n",
       "  </tbody>\n",
       "</table>\n",
       "</div>"
      ],
      "text/plain": [
       "      id  \\\n",
       "0  10078   \n",
       "\n",
       "                                                                                                                                                                                                                                                                                                                                                                                                                                                                                                                                                                                                                       rle  \n",
       "0  5 1 7 2 10 1 14 2 17 1 20 2 23 3 30 2 33 2 36 1 42 4 47 1 50 1 52 1 57 1 62 2 65 1 67 4 73 1 76 1 78 1 81 1 84 1 86 1 89 1 91 3 95 1 98 2 101 2 107 2 110 2 114 5 122 1 126 2 130 2 133 3 137 1 141 1 146 1 148 2 152 4 158 6 165 3 173 4 179 1 185 1 187 3 191 1 194 7 203 4 208 2 213 2 216 3 221 1 223 2 227 4 232 1 234 1 236 1 239 1 243 1 246 2 249 1 254 4 260 1 264 2 267 1 270 1 272 2 277 3 281 1 284 1 290 3 295 2 298 8 307 6 314 3 318 1 321 1 326 1 329 3 334 1 338 1 346 1 349 2 352 2 355 2 358 1 360 1 364 3 368 1 370 3 378 2 382 3 386 5 392 2 396 2 400 6 407 3 411 3 415 1 417 1 421 1 423 3 43...  "
      ]
     },
     "execution_count": 7,
     "metadata": {},
     "output_type": "execute_result"
    }
   ],
   "source": [
    "# Create the submission DataFrame\n",
    "submission = pd.read_csv(Path(DATASET_FOLDER)/'sample_submission.csv')\n",
    "submission = submission.astype({'id': 'int64'})\n",
    "ds = df_test\n",
    "for idx in range(ds.shape[0]):\n",
    "    submission.at[idx, \"id\"] = ds.iloc[idx][\"id\"]\n",
    "    # Height and width of original image of the test set\n",
    "    h = ds.iloc[idx][\"img_height\"]\n",
    "    w = ds.iloc[idx][\"img_width\"]\n",
    "    # Create a random uniformly distributed mask of 0s and 1s \n",
    "    # of size (height, width)\n",
    "    mask = torch.rand((h,w))\n",
    "    mask = (mask > 0.5).to(torch.uint8)\n",
    "    rle = rle_encode_less_memory(mask.numpy())\n",
    "    submission.at[idx, \"rle\"] = rle\n",
    "\n",
    "submission.head()\n"
   ]
  },
  {
   "cell_type": "code",
   "execution_count": 8,
   "id": "bd911b32",
   "metadata": {
    "execution": {
     "iopub.execute_input": "2022-07-23T13:42:59.967880Z",
     "iopub.status.busy": "2022-07-23T13:42:59.967492Z",
     "iopub.status.idle": "2022-07-23T13:43:00.381135Z",
     "shell.execute_reply": "2022-07-23T13:43:00.379875Z"
    },
    "papermill": {
     "duration": 0.421917,
     "end_time": "2022-07-23T13:43:00.383758",
     "exception": false,
     "start_time": "2022-07-23T13:42:59.961841",
     "status": "completed"
    },
    "tags": []
   },
   "outputs": [],
   "source": [
    "# Save the submission file to be evaluated by the competition\n",
    "submission.to_csv(\"submission.csv\", index=False)"
   ]
  }
 ],
 "metadata": {
  "kernelspec": {
   "display_name": "Python 3 (ipykernel)",
   "language": "python",
   "name": "python3"
  },
  "language_info": {
   "codemirror_mode": {
    "name": "ipython",
    "version": 3
   },
   "file_extension": ".py",
   "mimetype": "text/x-python",
   "name": "python",
   "nbconvert_exporter": "python",
   "pygments_lexer": "ipython3",
   "version": "3.7.11"
  },
  "papermill": {
   "default_parameters": {},
   "duration": 17.243246,
   "end_time": "2022-07-23T13:43:01.322341",
   "environment_variables": {},
   "exception": null,
   "input_path": "__notebook__.ipynb",
   "output_path": "__notebook__.ipynb",
   "parameters": {},
   "start_time": "2022-07-23T13:42:44.079095",
   "version": "2.3.4"
  }
 },
 "nbformat": 4,
 "nbformat_minor": 5
}
